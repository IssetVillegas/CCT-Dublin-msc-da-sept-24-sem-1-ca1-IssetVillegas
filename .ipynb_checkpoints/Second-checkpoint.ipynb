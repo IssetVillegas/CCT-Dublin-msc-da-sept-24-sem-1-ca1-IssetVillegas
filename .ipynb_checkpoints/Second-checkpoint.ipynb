{
 "cells": [
  {
   "cell_type": "markdown",
   "id": "aed3ec18-5b11-4ee0-8b4a-4f897c3bfe1a",
   "metadata": {},
   "source": [
    "Second jupyter file  \n",
    "-"
   ]
  },
  {
   "cell_type": "code",
   "execution_count": 5,
   "id": "c315a048-a5d3-4c4c-83ef-a81b8210ea59",
   "metadata": {},
   "outputs": [
    {
     "name": "stdout",
     "output_type": "stream",
     "text": [
      "This is the result of x: 59\n"
     ]
    }
   ],
   "source": [
    "x= 7\n",
    "y= 33\n",
    "x= y-x\n",
    "sum= x+y\n",
    "print(\"This is the result of x:\", sum)"
   ]
  },
  {
   "cell_type": "code",
   "execution_count": null,
   "id": "15c568bf-b13b-4c78-8e6a-d195fb4ed4de",
   "metadata": {},
   "outputs": [],
   "source": []
  }
 ],
 "metadata": {
  "kernelspec": {
   "display_name": "Python 3 (ipykernel)",
   "language": "python",
   "name": "python3"
  },
  "language_info": {
   "codemirror_mode": {
    "name": "ipython",
    "version": 3
   },
   "file_extension": ".py",
   "mimetype": "text/x-python",
   "name": "python",
   "nbconvert_exporter": "python",
   "pygments_lexer": "ipython3",
   "version": "3.12.5"
  }
 },
 "nbformat": 4,
 "nbformat_minor": 5
}
