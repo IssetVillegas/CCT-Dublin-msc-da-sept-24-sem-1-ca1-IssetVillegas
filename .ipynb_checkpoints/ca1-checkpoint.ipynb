{
 "cells": [
  {
   "cell_type": "code",
   "execution_count": null,
   "id": "b5c2f085-2519-4ede-a2a1-7dd78706af1e",
   "metadata": {},
   "outputs": [],
   "source": [
    "import pandas as pd\n",
    "import numpy as np\n",
    "import seaborn as sns\n",
    "import matplotlib.pyplot as plt\n",
    "import scipy.stats as stats\n",
    "from scipy.stats import shapiro\n",
    "\n",
    "#To read the file downloaded from the CSO.ie database\n",
    "df = pd.read_csv('cso_data.csv', index_col=False)"
   ]
  },
  {
   "cell_type": "code",
   "execution_count": null,
   "id": "f6b3a68c-24de-4e31-8d85-929ea2ea7c7a",
   "metadata": {},
   "outputs": [],
   "source": [
    "#To get all the information realted to the dataset\n",
    "df.info()"
   ]
  },
  {
   "cell_type": "code",
   "execution_count": null,
   "id": "9ca3be01-1215-4939-a0bc-cc1a75b78373",
   "metadata": {},
   "outputs": [],
   "source": [
    "#Shows the 5 first rows from the dataset\n",
    "df.head()"
   ]
  },
  {
   "cell_type": "code",
   "execution_count": null,
   "id": "698571f5-5302-4faf-a76e-271cbfe5b2e8",
   "metadata": {},
   "outputs": [],
   "source": [
    "#To drop the feature Statistic Label\n",
    "df = df.drop(columns=['Statistic Label'])"
   ]
  },
  {
   "cell_type": "code",
   "execution_count": null,
   "id": "932affd5-216c-46ec-929e-30882d0af625",
   "metadata": {},
   "outputs": [],
   "source": [
    "#Reorganazing the dataset\n",
    "#Creates 5 new columns and asigned values from VALUE into the new features \n",
    "df['Number of Overnight Trips by Foreign Visitors (Thousand)'] = pd.Series(df['VALUE'].iloc[0:120].reset_index(drop=True))\n",
    "df['Percentage of Overnight Trips by Foreign Visitors (%)'] = pd.Series(df['VALUE'].iloc[120:240].reset_index(drop=True))\n",
    "df['Number of Nights by Foreign Visitors (Thousand)'] = pd.Series(df['VALUE'].iloc[240:360].reset_index(drop=True))\n",
    "df['Percentage of Nights by Foreign Visitors (%)'] = pd.Series(df['VALUE'].iloc[360:480].reset_index(drop=True))\n",
    "df['Average Length of Stay of Foreign Visitors (Nights per trip)'] = pd.Series(df['VALUE'].iloc[480:600].reset_index(drop=True))\n"
   ]
  },
  {
   "cell_type": "code",
   "execution_count": null,
   "id": "2fae8c9d-379e-4d89-b997-542b4fa918d1",
   "metadata": {},
   "outputs": [],
   "source": [
    "df.head(120)"
   ]
  },
  {
   "cell_type": "code",
   "execution_count": null,
   "id": "b7d0ce66-515d-427f-8939-5ab617246885",
   "metadata": {},
   "outputs": [],
   "source": [
    "#To drop features VALUE and UNIT\n",
    "df = df.drop(columns=['VALUE', 'UNIT'])\n",
    "#To drop all the observations after index 120\n",
    "df = df.drop(df.index[120:])"
   ]
  },
  {
   "cell_type": "code",
   "execution_count": null,
   "id": "5b0a1c32-db04-4383-b0de-393da7b3b628",
   "metadata": {},
   "outputs": [],
   "source": [
    "df.head(125)"
   ]
  },
  {
   "cell_type": "code",
   "execution_count": null,
   "id": "8e68ed82-913b-4bd0-8a99-bc093c5e51fd",
   "metadata": {},
   "outputs": [],
   "source": [
    "#to split the feature \"Month\" into \"Month\" and \"Year\"\n",
    "df[['Year', 'Month']] = df['Month'].str.split(' ', expand=True)\n",
    "\n",
    "#To change Year's datatype  \n",
    "df['Year'] = pd.to_datetime(df['Year'], format='%Y')\n",
    "df['Year'] = df['Year'].dt.year"
   ]
  },
  {
   "cell_type": "code",
   "execution_count": null,
   "id": "f9cb4044-b5a0-430b-9bf5-1655b10e3a7e",
   "metadata": {},
   "outputs": [],
   "source": [
    "df.head()"
   ]
  },
  {
   "cell_type": "code",
   "execution_count": null,
   "id": "2d588502-ec36-466b-a100-42821f3bf57f",
   "metadata": {},
   "outputs": [],
   "source": [
    "df.info()"
   ]
  },
  {
   "cell_type": "code",
   "execution_count": null,
   "id": "986a5e32-24f0-4b82-b045-84e08d0c9f63",
   "metadata": {},
   "outputs": [],
   "source": [
    "df.describe()"
   ]
  },
  {
   "cell_type": "code",
   "execution_count": null,
   "id": "14676c7b-d783-40f8-a364-180dca91ee0a",
   "metadata": {},
   "outputs": [],
   "source": [
    "#To drop redundant observations\n",
    "print(f\"Set size before dropping redundant observations: {df.shape}\")\n",
    "df.drop_duplicates(inplace=True)\n",
    "print(f\"Set size after dropping redundant observations: {df.shape}\")\n"
   ]
  },
  {
   "cell_type": "code",
   "execution_count": null,
   "id": "eb538c0d-7e0c-43e8-86c5-3ef6c4b3338d",
   "metadata": {},
   "outputs": [],
   "source": [
    "#to create the csv of the modified dataset\n",
    "df.to_csv('new_cso_data.csv', index=False)"
   ]
  },
  {
   "cell_type": "code",
   "execution_count": null,
   "id": "53fb89b9-2aae-4048-9d3b-e65336678d7d",
   "metadata": {},
   "outputs": [],
   "source": [
    "#To filter the data by excluding the feature: \"All types of accommodation\"\n",
    "df_filtered = df[df['Main Accommodation Type'] != 'All types of accommodation']\n",
    "\n",
    "#To verify the distribution, creates an histogram and a Q-Q plot of Number of overnight trips and Number of nights stayed\n",
    "feature = 'Number of Overnight Trips by Foreign Visitors (Thousand)'\n",
    "data = df_filtered[feature].values\n",
    "\n",
    "#Creates a histogram\n",
    "plt.figure(figsize=(10, 6))\n",
    "sns.histplot(data, bins=30, kde=True)\n",
    "plt.title('Histogram of Number of Overnight Trips by Foreign Visitors')\n",
    "plt.xlabel(feature)\n",
    "plt.ylabel('Frecuence')\n",
    "plt.show()\n",
    "\n",
    "# Creates a Q-Q Plot\n",
    "plt.figure(figsize=(10, 6))\n",
    "stats.probplot(data, dist=\"norm\", plot=plt)\n",
    "plt.title('Q-Q Plot: Comparing Number of Overnight Trips to Normal Distribution')\n",
    "plt.show()\n",
    "\n",
    "\n",
    "feature2 = 'Number of Nights by Foreign Visitors (Thousand)'\n",
    "data2 = df_filtered[feature2].values\n",
    "\n",
    "#Creates a histogram\n",
    "plt.figure(figsize=(10, 6))\n",
    "sns.histplot(data2, bins=30, kde=True)\n",
    "plt.title('Histogram of Number of Nights Stayed by Foreign Visitors')\n",
    "plt.xlabel(feature2)\n",
    "plt.ylabel('Frecuence')\n",
    "plt.show()\n",
    "\n",
    "# Creates a Q-Q Plot\n",
    "plt.figure(figsize=(10, 6))\n",
    "stats.probplot(data2, dist=\"norm\", plot=plt)\n",
    "plt.title('Q-Q Plot: Comparing Number of Nights to Normal Distribution')\n",
    "plt.show()\n"
   ]
  },
  {
   "cell_type": "code",
   "execution_count": null,
   "id": "cb5e0763-8d88-4f68-a46f-48583a0fe75a",
   "metadata": {},
   "outputs": [],
   "source": [
    "#To split the dataset into groups by year\n",
    "by_year = df_filtered.groupby('Year')\n",
    "\n",
    "#Shapiro-Wilk test by year to get a statistical confirmation of the distribution\n",
    "shapiro_results_overnights= {}\n",
    "print('Number of Overnight Trips by Foreign Visitors (Thousand)')\n",
    "for year, group in by_year:\n",
    "    stat, p_value= shapiro(group['Number of Overnight Trips by Foreign Visitors (Thousand)'])\n",
    "    shapiro_results_overnights[year]= {'Statistics': stat, 'p-value': p_value}\n",
    "\n",
    "#Loop to show results by year\n",
    "for year, result in shapiro_results_overnights.items():\n",
    "    print(f\"Year: {year}, Shapiro-Wilk Test: Statistics={result['Statistics']}, p-value={result['p-value']}\")\n",
    "\n",
    "\n",
    "shapiro_results_nights= {}\n",
    "print('\\nNumber of Nights by Foreign Visitors (Thousand)')\n",
    "for year, group in by_year:\n",
    "    stat, p_value= shapiro(group['Number of Nights by Foreign Visitors (Thousand)'])\n",
    "    shapiro_results_nights[year]= {'Statistics': stat, 'p-value': p_value}\n",
    "\n",
    "#Loop to show results by year\n",
    "for year, result in shapiro_results_nights.items():\n",
    "    print(f\"Year: {year}, Shapiro-Wilk Test: Statistics={result['Statistics']}, p-value={result['p-value']}\")\n",
    "\n"
   ]
  },
  {
   "cell_type": "code",
   "execution_count": null,
   "id": "31925dda-3521-4eb1-967a-2a0b50bf2f91",
   "metadata": {},
   "outputs": [],
   "source": [
    "#Function to manage the outliers using the Interquartile range\n",
    "def yearly_group(group):\n",
    "    feature_to_process = ['Number of Overnight Trips by Foreign Visitors (Thousand)', 'Number of Nights by Foreign Visitors (Thousand)']\n",
    "    group['Year'] = group['Year']\n",
    "    for feature in feature_to_process:\n",
    "        Q1 = group[feature].quantile(0.25)\n",
    "        Q3 = group[feature].quantile(0.75)\n",
    "        IQR = Q3 - Q1\n",
    "        lower = Q1 - 1.5 * IQR\n",
    "        upper = Q3 + 1.5 * IQR\n",
    "        group = group[(group[feature] >= lower) & (group[feature] <= upper)]\n",
    "          \n",
    "    #To return the proccessed features only\n",
    "    return group[feature_to_process + ['Year']]\n",
    "\n",
    "#To apply the IQR method to each group\n",
    "processed_groups = by_year.apply(yearly_group).reset_index(drop=True)\n",
    "\n",
    "print(processed_groups)"
   ]
  },
  {
   "cell_type": "code",
   "execution_count": null,
   "id": "a8bf762f-ae70-426b-8280-0d1d39838da1",
   "metadata": {},
   "outputs": [],
   "source": [
    "#To compare the std original and after the quartiles method\n",
    "#For Number of Overnight Trips\n",
    "print('Number of Overnight Trips by Foreign Visitors')\n",
    "orig_std = df['Number of Overnight Trips by Foreign Visitors (Thousand)'].std()\n",
    "processed_std = processed_groups['Number of Overnight Trips by Foreign Visitors (Thousand)'].std()\n",
    "\n",
    "print(f\"Original std: {orig_std}\")\n",
    "print(f\"No outliers std: {processed_std}\")\n",
    "\n",
    "#For Number of Nights\n",
    "print('\\nNumber of Nights by Foreign Visitors')\n",
    "orig_std2 = df['Number of Nights by Foreign Visitors (Thousand)'].std()\n",
    "processed_std2 = processed_groups['Number of Nights by Foreign Visitors (Thousand)'].std()\n",
    "\n",
    "print(f\"Original std: {orig_std2}\")\n",
    "print(f\"No outliers std: {processed_std2}\")"
   ]
  },
  {
   "cell_type": "code",
   "execution_count": null,
   "id": "b1dd0e74-cc3f-4796-824f-d6abc5d4b4b1",
   "metadata": {},
   "outputs": [],
   "source": []
  },
  {
   "cell_type": "code",
   "execution_count": null,
   "id": "5e1b37c6-01bf-4e1e-bce8-17cd9235717a",
   "metadata": {},
   "outputs": [],
   "source": []
  },
  {
   "cell_type": "code",
   "execution_count": null,
   "id": "1665cdb7-3629-4690-8de2-c0f6cdb31735",
   "metadata": {},
   "outputs": [],
   "source": []
  },
  {
   "cell_type": "code",
   "execution_count": null,
   "id": "cfa30392-0de3-49c5-8bd3-9f44fe7094c8",
   "metadata": {},
   "outputs": [],
   "source": []
  }
 ],
 "metadata": {
  "kernelspec": {
   "display_name": "Python 3 (ipykernel)",
   "language": "python",
   "name": "python3"
  },
  "language_info": {
   "codemirror_mode": {
    "name": "ipython",
    "version": 3
   },
   "file_extension": ".py",
   "mimetype": "text/x-python",
   "name": "python",
   "nbconvert_exporter": "python",
   "pygments_lexer": "ipython3",
   "version": "3.12.5"
  }
 },
 "nbformat": 4,
 "nbformat_minor": 5
}
