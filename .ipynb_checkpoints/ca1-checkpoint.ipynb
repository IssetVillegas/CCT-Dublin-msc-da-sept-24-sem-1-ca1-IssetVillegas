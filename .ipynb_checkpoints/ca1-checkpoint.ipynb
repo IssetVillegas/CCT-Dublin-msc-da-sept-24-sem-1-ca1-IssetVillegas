{
 "cells": [
  {
   "cell_type": "code",
   "execution_count": 60,
   "id": "e86d89a9-2003-4596-a11d-11cbb341cdd9",
   "metadata": {},
   "outputs": [],
   "source": [
    "\n",
    "import pandas as pd\n",
    "import numpy as np\n",
    "import seaborn as sns\n",
    "import matplotlib.pyplot as plt\n",
    "\n",
    "#To read the file downloaded from the CSO.ie database\n",
    "df = pd.read_csv('cso_data.csv')"
   ]
  },
  {
   "cell_type": "code",
   "execution_count": 61,
   "id": "7800a6c3-1aac-48b6-8b02-18c973adae38",
   "metadata": {},
   "outputs": [
    {
     "name": "stdout",
     "output_type": "stream",
     "text": [
      "<class 'pandas.core.frame.DataFrame'>\n",
      "RangeIndex: 600 entries, 0 to 599\n",
      "Data columns (total 5 columns):\n",
      " #   Column                   Non-Null Count  Dtype  \n",
      "---  ------                   --------------  -----  \n",
      " 0   Statistic Label          600 non-null    object \n",
      " 1   Month                    600 non-null    object \n",
      " 2   Main Accommodation Type  600 non-null    object \n",
      " 3   UNIT                     600 non-null    object \n",
      " 4   VALUE                    600 non-null    float64\n",
      "dtypes: float64(1), object(4)\n",
      "memory usage: 23.6+ KB\n"
     ]
    }
   ],
   "source": [
    "df.info()"
   ]
  },
  {
   "cell_type": "code",
   "execution_count": 62,
   "id": "64ab3aad-7f20-4f5e-9169-18d798140c87",
   "metadata": {},
   "outputs": [
    {
     "data": {
      "text/html": [
       "<div>\n",
       "<style scoped>\n",
       "    .dataframe tbody tr th:only-of-type {\n",
       "        vertical-align: middle;\n",
       "    }\n",
       "\n",
       "    .dataframe tbody tr th {\n",
       "        vertical-align: top;\n",
       "    }\n",
       "\n",
       "    .dataframe thead th {\n",
       "        text-align: right;\n",
       "    }\n",
       "</style>\n",
       "<table border=\"1\" class=\"dataframe\">\n",
       "  <thead>\n",
       "    <tr style=\"text-align: right;\">\n",
       "      <th></th>\n",
       "      <th>VALUE</th>\n",
       "    </tr>\n",
       "  </thead>\n",
       "  <tbody>\n",
       "    <tr>\n",
       "      <th>count</th>\n",
       "      <td>600.000000</td>\n",
       "    </tr>\n",
       "    <tr>\n",
       "      <th>mean</th>\n",
       "      <td>336.756500</td>\n",
       "    </tr>\n",
       "    <tr>\n",
       "      <th>std</th>\n",
       "      <td>883.068043</td>\n",
       "    </tr>\n",
       "    <tr>\n",
       "      <th>min</th>\n",
       "      <td>1.500000</td>\n",
       "    </tr>\n",
       "    <tr>\n",
       "      <th>25%</th>\n",
       "      <td>8.100000</td>\n",
       "    </tr>\n",
       "    <tr>\n",
       "      <th>50%</th>\n",
       "      <td>33.700000</td>\n",
       "    </tr>\n",
       "    <tr>\n",
       "      <th>75%</th>\n",
       "      <td>208.675000</td>\n",
       "    </tr>\n",
       "    <tr>\n",
       "      <th>max</th>\n",
       "      <td>7337.700000</td>\n",
       "    </tr>\n",
       "  </tbody>\n",
       "</table>\n",
       "</div>"
      ],
      "text/plain": [
       "             VALUE\n",
       "count   600.000000\n",
       "mean    336.756500\n",
       "std     883.068043\n",
       "min       1.500000\n",
       "25%       8.100000\n",
       "50%      33.700000\n",
       "75%     208.675000\n",
       "max    7337.700000"
      ]
     },
     "execution_count": 62,
     "metadata": {},
     "output_type": "execute_result"
    }
   ],
   "source": [
    "df.describe()"
   ]
  },
  {
   "cell_type": "code",
   "execution_count": 63,
   "id": "326706dc-71ab-49c8-a1c7-09d3f2ed6f67",
   "metadata": {},
   "outputs": [
    {
     "name": "stdout",
     "output_type": "stream",
     "text": [
      "                                 Statistic Label          Month  \\\n",
      "0  Number of Overnight Trips by Foreign Visitors   2023 January   \n",
      "1  Number of Overnight Trips by Foreign Visitors   2023 January   \n",
      "2  Number of Overnight Trips by Foreign Visitors   2023 January   \n",
      "3  Number of Overnight Trips by Foreign Visitors   2023 January   \n",
      "4  Number of Overnight Trips by Foreign Visitors   2023 January   \n",
      "5  Number of Overnight Trips by Foreign Visitors   2023 January   \n",
      "6  Number of Overnight Trips by Foreign Visitors  2023 February   \n",
      "7  Number of Overnight Trips by Foreign Visitors  2023 February   \n",
      "8  Number of Overnight Trips by Foreign Visitors  2023 February   \n",
      "9  Number of Overnight Trips by Foreign Visitors  2023 February   \n",
      "\n",
      "                      Main Accommodation Type      UNIT  VALUE  \n",
      "0                     Hotel/conference centre  Thousand  121.0  \n",
      "1                 Guest house/bed & breakfast  Thousand    8.5  \n",
      "2              Friends/relatives/own property  Thousand  243.4  \n",
      "3                  Self catering/rented house  Thousand   13.8  \n",
      "4  Other private tourism accommodation n.e.c.  Thousand   13.4  \n",
      "5                  All types of accommodation  Thousand  400.0  \n",
      "6                     Hotel/conference centre  Thousand  142.9  \n",
      "7                 Guest house/bed & breakfast  Thousand    7.1  \n",
      "8              Friends/relatives/own property  Thousand  156.3  \n",
      "9                  Self catering/rented house  Thousand   14.4  \n"
     ]
    }
   ],
   "source": [
    "#Shows the 10 first rows from the dataset\n",
    "print(df.head(10))"
   ]
  },
  {
   "cell_type": "code",
   "execution_count": null,
   "id": "5dd2d366-671f-46f2-a1b9-9ff7d9595ca9",
   "metadata": {},
   "outputs": [],
   "source": []
  }
 ],
 "metadata": {
  "kernelspec": {
   "display_name": "Python 3 (ipykernel)",
   "language": "python",
   "name": "python3"
  },
  "language_info": {
   "codemirror_mode": {
    "name": "ipython",
    "version": 3
   },
   "file_extension": ".py",
   "mimetype": "text/x-python",
   "name": "python",
   "nbconvert_exporter": "python",
   "pygments_lexer": "ipython3",
   "version": "3.12.5"
  }
 },
 "nbformat": 4,
 "nbformat_minor": 5
}
