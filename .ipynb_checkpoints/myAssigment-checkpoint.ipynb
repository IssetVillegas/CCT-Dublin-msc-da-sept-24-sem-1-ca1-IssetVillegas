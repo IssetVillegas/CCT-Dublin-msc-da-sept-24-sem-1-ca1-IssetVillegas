{
 "cells": [
  {
   "cell_type": "markdown",
   "id": "0eef0eb0-1cb0-4f55-b4d8-a75affc9bd92",
   "metadata": {},
   "source": [
    "##This is my CA 1\n",
    "-"
   ]
  },
  {
   "cell_type": "code",
   "execution_count": 1,
   "id": "4a2b6e0b-2481-422e-97a0-64d59555cb31",
   "metadata": {},
   "outputs": [
    {
     "name": "stdout",
     "output_type": "stream",
     "text": [
      "Hello\n"
     ]
    }
   ],
   "source": [
    "print(\"Hello\")"
   ]
  },
  {
   "cell_type": "code",
   "execution_count": 2,
   "id": "31ba85d7-76e9-43e0-ba62-9f447d49e986",
   "metadata": {},
   "outputs": [
    {
     "name": "stdout",
     "output_type": "stream",
     "text": [
      "0\n",
      "1\n",
      "2\n",
      "3\n",
      "4\n"
     ]
    }
   ],
   "source": [
    "for i in range (5):\n",
    "    print(i)"
   ]
  },
  {
   "cell_type": "code",
   "execution_count": 3,
   "id": "e5bae13a-1e02-495c-ab05-dcefe5b07900",
   "metadata": {},
   "outputs": [
    {
     "name": "stdout",
     "output_type": "stream",
     "text": [
      "for second update\n"
     ]
    }
   ],
   "source": [
    "print(\"for second update\")"
   ]
  },
  {
   "cell_type": "code",
   "execution_count": null,
   "id": "147d1efe-1333-4a3b-ade3-37e174dd2185",
   "metadata": {},
   "outputs": [],
   "source": []
  }
 ],
 "metadata": {
  "kernelspec": {
   "display_name": "Python 3 (ipykernel)",
   "language": "python",
   "name": "python3"
  },
  "language_info": {
   "codemirror_mode": {
    "name": "ipython",
    "version": 3
   },
   "file_extension": ".py",
   "mimetype": "text/x-python",
   "name": "python",
   "nbconvert_exporter": "python",
   "pygments_lexer": "ipython3",
   "version": "3.12.5"
  }
 },
 "nbformat": 4,
 "nbformat_minor": 5
}
