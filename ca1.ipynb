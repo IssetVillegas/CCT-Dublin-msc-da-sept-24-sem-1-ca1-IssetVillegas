{
 "cells": [
  {
   "cell_type": "code",
   "execution_count": 1,
   "id": "e86d89a9-2003-4596-a11d-11cbb341cdd9",
   "metadata": {},
   "outputs": [],
   "source": [
    "import pandas as pd\n",
    "import numpy as np\n",
    "import seaborn as sns\n",
    "import matplotlib.pyplot as plt\n",
    "\n",
    "#To read the file downloaded from the CSO.ie database\n",
    "df = pd.read_csv('cso_data.csv', index_col=False)"
   ]
  },
  {
   "cell_type": "code",
   "execution_count": 2,
   "id": "7800a6c3-1aac-48b6-8b02-18c973adae38",
   "metadata": {},
   "outputs": [
    {
     "name": "stdout",
     "output_type": "stream",
     "text": [
      "<class 'pandas.core.frame.DataFrame'>\n",
      "RangeIndex: 600 entries, 0 to 599\n",
      "Data columns (total 5 columns):\n",
      " #   Column                   Non-Null Count  Dtype  \n",
      "---  ------                   --------------  -----  \n",
      " 0   Statistic Label          600 non-null    object \n",
      " 1   Month                    600 non-null    object \n",
      " 2   Main Accommodation Type  600 non-null    object \n",
      " 3   UNIT                     600 non-null    object \n",
      " 4   VALUE                    600 non-null    float64\n",
      "dtypes: float64(1), object(4)\n",
      "memory usage: 23.6+ KB\n"
     ]
    }
   ],
   "source": [
    "#To get all the information realted to the dataset\n",
    "df.info()"
   ]
  },
  {
   "cell_type": "code",
   "execution_count": 3,
   "id": "326706dc-71ab-49c8-a1c7-09d3f2ed6f67",
   "metadata": {},
   "outputs": [
    {
     "data": {
      "text/html": [
       "<div>\n",
       "<style scoped>\n",
       "    .dataframe tbody tr th:only-of-type {\n",
       "        vertical-align: middle;\n",
       "    }\n",
       "\n",
       "    .dataframe tbody tr th {\n",
       "        vertical-align: top;\n",
       "    }\n",
       "\n",
       "    .dataframe thead th {\n",
       "        text-align: right;\n",
       "    }\n",
       "</style>\n",
       "<table border=\"1\" class=\"dataframe\">\n",
       "  <thead>\n",
       "    <tr style=\"text-align: right;\">\n",
       "      <th></th>\n",
       "      <th>Statistic Label</th>\n",
       "      <th>Month</th>\n",
       "      <th>Main Accommodation Type</th>\n",
       "      <th>UNIT</th>\n",
       "      <th>VALUE</th>\n",
       "    </tr>\n",
       "  </thead>\n",
       "  <tbody>\n",
       "    <tr>\n",
       "      <th>590</th>\n",
       "      <td>Average Length of Stay of Foreign Visitors</td>\n",
       "      <td>2024 July</td>\n",
       "      <td>Friends/relatives/own property</td>\n",
       "      <td>Nights per trip</td>\n",
       "      <td>9.6</td>\n",
       "    </tr>\n",
       "    <tr>\n",
       "      <th>591</th>\n",
       "      <td>Average Length of Stay of Foreign Visitors</td>\n",
       "      <td>2024 July</td>\n",
       "      <td>Self catering/rented house</td>\n",
       "      <td>Nights per trip</td>\n",
       "      <td>13.4</td>\n",
       "    </tr>\n",
       "    <tr>\n",
       "      <th>592</th>\n",
       "      <td>Average Length of Stay of Foreign Visitors</td>\n",
       "      <td>2024 July</td>\n",
       "      <td>Other private tourism accommodation n.e.c.</td>\n",
       "      <td>Nights per trip</td>\n",
       "      <td>11.2</td>\n",
       "    </tr>\n",
       "    <tr>\n",
       "      <th>593</th>\n",
       "      <td>Average Length of Stay of Foreign Visitors</td>\n",
       "      <td>2024 July</td>\n",
       "      <td>All types of accommodation</td>\n",
       "      <td>Nights per trip</td>\n",
       "      <td>8.1</td>\n",
       "    </tr>\n",
       "    <tr>\n",
       "      <th>594</th>\n",
       "      <td>Average Length of Stay of Foreign Visitors</td>\n",
       "      <td>2024 August</td>\n",
       "      <td>Hotel/conference centre</td>\n",
       "      <td>Nights per trip</td>\n",
       "      <td>5.8</td>\n",
       "    </tr>\n",
       "    <tr>\n",
       "      <th>595</th>\n",
       "      <td>Average Length of Stay of Foreign Visitors</td>\n",
       "      <td>2024 August</td>\n",
       "      <td>Guest house/bed &amp; breakfast</td>\n",
       "      <td>Nights per trip</td>\n",
       "      <td>8.9</td>\n",
       "    </tr>\n",
       "    <tr>\n",
       "      <th>596</th>\n",
       "      <td>Average Length of Stay of Foreign Visitors</td>\n",
       "      <td>2024 August</td>\n",
       "      <td>Friends/relatives/own property</td>\n",
       "      <td>Nights per trip</td>\n",
       "      <td>10.2</td>\n",
       "    </tr>\n",
       "    <tr>\n",
       "      <th>597</th>\n",
       "      <td>Average Length of Stay of Foreign Visitors</td>\n",
       "      <td>2024 August</td>\n",
       "      <td>Self catering/rented house</td>\n",
       "      <td>Nights per trip</td>\n",
       "      <td>11.2</td>\n",
       "    </tr>\n",
       "    <tr>\n",
       "      <th>598</th>\n",
       "      <td>Average Length of Stay of Foreign Visitors</td>\n",
       "      <td>2024 August</td>\n",
       "      <td>Other private tourism accommodation n.e.c.</td>\n",
       "      <td>Nights per trip</td>\n",
       "      <td>13.5</td>\n",
       "    </tr>\n",
       "    <tr>\n",
       "      <th>599</th>\n",
       "      <td>Average Length of Stay of Foreign Visitors</td>\n",
       "      <td>2024 August</td>\n",
       "      <td>All types of accommodation</td>\n",
       "      <td>Nights per trip</td>\n",
       "      <td>8.7</td>\n",
       "    </tr>\n",
       "  </tbody>\n",
       "</table>\n",
       "</div>"
      ],
      "text/plain": [
       "                                Statistic Label        Month  \\\n",
       "590  Average Length of Stay of Foreign Visitors    2024 July   \n",
       "591  Average Length of Stay of Foreign Visitors    2024 July   \n",
       "592  Average Length of Stay of Foreign Visitors    2024 July   \n",
       "593  Average Length of Stay of Foreign Visitors    2024 July   \n",
       "594  Average Length of Stay of Foreign Visitors  2024 August   \n",
       "595  Average Length of Stay of Foreign Visitors  2024 August   \n",
       "596  Average Length of Stay of Foreign Visitors  2024 August   \n",
       "597  Average Length of Stay of Foreign Visitors  2024 August   \n",
       "598  Average Length of Stay of Foreign Visitors  2024 August   \n",
       "599  Average Length of Stay of Foreign Visitors  2024 August   \n",
       "\n",
       "                        Main Accommodation Type             UNIT  VALUE  \n",
       "590              Friends/relatives/own property  Nights per trip    9.6  \n",
       "591                  Self catering/rented house  Nights per trip   13.4  \n",
       "592  Other private tourism accommodation n.e.c.  Nights per trip   11.2  \n",
       "593                  All types of accommodation  Nights per trip    8.1  \n",
       "594                     Hotel/conference centre  Nights per trip    5.8  \n",
       "595                 Guest house/bed & breakfast  Nights per trip    8.9  \n",
       "596              Friends/relatives/own property  Nights per trip   10.2  \n",
       "597                  Self catering/rented house  Nights per trip   11.2  \n",
       "598  Other private tourism accommodation n.e.c.  Nights per trip   13.5  \n",
       "599                  All types of accommodation  Nights per trip    8.7  "
      ]
     },
     "execution_count": 3,
     "metadata": {},
     "output_type": "execute_result"
    }
   ],
   "source": [
    "#Shows the 10 first rows from the dataset\n",
    "df.tail(10)"
   ]
  },
  {
   "cell_type": "code",
   "execution_count": 4,
   "id": "b1f50901-c41d-49a0-a729-4f80061d5ec5",
   "metadata": {},
   "outputs": [],
   "source": [
    "#to split the feature \"Month\" into \"Month\" and \"Year\"\n",
    "df[['Year', 'Month']] = df['Month'].str.split(' ', expand=True)\n",
    "\n",
    "#To change Year's datatype  \n",
    "df['Year'] = df['Year'].astype(int)\n"
   ]
  },
  {
   "cell_type": "code",
   "execution_count": 5,
   "id": "e8af1b0e-e916-4c6d-ab01-eb5b53ab2cc7",
   "metadata": {},
   "outputs": [
    {
     "data": {
      "text/html": [
       "<div>\n",
       "<style scoped>\n",
       "    .dataframe tbody tr th:only-of-type {\n",
       "        vertical-align: middle;\n",
       "    }\n",
       "\n",
       "    .dataframe tbody tr th {\n",
       "        vertical-align: top;\n",
       "    }\n",
       "\n",
       "    .dataframe thead th {\n",
       "        text-align: right;\n",
       "    }\n",
       "</style>\n",
       "<table border=\"1\" class=\"dataframe\">\n",
       "  <thead>\n",
       "    <tr style=\"text-align: right;\">\n",
       "      <th></th>\n",
       "      <th>Statistic Label</th>\n",
       "      <th>Month</th>\n",
       "      <th>Main Accommodation Type</th>\n",
       "      <th>UNIT</th>\n",
       "      <th>VALUE</th>\n",
       "      <th>Year</th>\n",
       "    </tr>\n",
       "  </thead>\n",
       "  <tbody>\n",
       "    <tr>\n",
       "      <th>0</th>\n",
       "      <td>Number of Overnight Trips by Foreign Visitors</td>\n",
       "      <td>January</td>\n",
       "      <td>Hotel/conference centre</td>\n",
       "      <td>Thousand</td>\n",
       "      <td>121.0</td>\n",
       "      <td>2023</td>\n",
       "    </tr>\n",
       "    <tr>\n",
       "      <th>1</th>\n",
       "      <td>Number of Overnight Trips by Foreign Visitors</td>\n",
       "      <td>January</td>\n",
       "      <td>Guest house/bed &amp; breakfast</td>\n",
       "      <td>Thousand</td>\n",
       "      <td>8.5</td>\n",
       "      <td>2023</td>\n",
       "    </tr>\n",
       "    <tr>\n",
       "      <th>2</th>\n",
       "      <td>Number of Overnight Trips by Foreign Visitors</td>\n",
       "      <td>January</td>\n",
       "      <td>Friends/relatives/own property</td>\n",
       "      <td>Thousand</td>\n",
       "      <td>243.4</td>\n",
       "      <td>2023</td>\n",
       "    </tr>\n",
       "    <tr>\n",
       "      <th>3</th>\n",
       "      <td>Number of Overnight Trips by Foreign Visitors</td>\n",
       "      <td>January</td>\n",
       "      <td>Self catering/rented house</td>\n",
       "      <td>Thousand</td>\n",
       "      <td>13.8</td>\n",
       "      <td>2023</td>\n",
       "    </tr>\n",
       "    <tr>\n",
       "      <th>4</th>\n",
       "      <td>Number of Overnight Trips by Foreign Visitors</td>\n",
       "      <td>January</td>\n",
       "      <td>Other private tourism accommodation n.e.c.</td>\n",
       "      <td>Thousand</td>\n",
       "      <td>13.4</td>\n",
       "      <td>2023</td>\n",
       "    </tr>\n",
       "    <tr>\n",
       "      <th>5</th>\n",
       "      <td>Number of Overnight Trips by Foreign Visitors</td>\n",
       "      <td>January</td>\n",
       "      <td>All types of accommodation</td>\n",
       "      <td>Thousand</td>\n",
       "      <td>400.0</td>\n",
       "      <td>2023</td>\n",
       "    </tr>\n",
       "    <tr>\n",
       "      <th>6</th>\n",
       "      <td>Number of Overnight Trips by Foreign Visitors</td>\n",
       "      <td>February</td>\n",
       "      <td>Hotel/conference centre</td>\n",
       "      <td>Thousand</td>\n",
       "      <td>142.9</td>\n",
       "      <td>2023</td>\n",
       "    </tr>\n",
       "    <tr>\n",
       "      <th>7</th>\n",
       "      <td>Number of Overnight Trips by Foreign Visitors</td>\n",
       "      <td>February</td>\n",
       "      <td>Guest house/bed &amp; breakfast</td>\n",
       "      <td>Thousand</td>\n",
       "      <td>7.1</td>\n",
       "      <td>2023</td>\n",
       "    </tr>\n",
       "    <tr>\n",
       "      <th>8</th>\n",
       "      <td>Number of Overnight Trips by Foreign Visitors</td>\n",
       "      <td>February</td>\n",
       "      <td>Friends/relatives/own property</td>\n",
       "      <td>Thousand</td>\n",
       "      <td>156.3</td>\n",
       "      <td>2023</td>\n",
       "    </tr>\n",
       "    <tr>\n",
       "      <th>9</th>\n",
       "      <td>Number of Overnight Trips by Foreign Visitors</td>\n",
       "      <td>February</td>\n",
       "      <td>Self catering/rented house</td>\n",
       "      <td>Thousand</td>\n",
       "      <td>14.4</td>\n",
       "      <td>2023</td>\n",
       "    </tr>\n",
       "  </tbody>\n",
       "</table>\n",
       "</div>"
      ],
      "text/plain": [
       "                                 Statistic Label     Month  \\\n",
       "0  Number of Overnight Trips by Foreign Visitors   January   \n",
       "1  Number of Overnight Trips by Foreign Visitors   January   \n",
       "2  Number of Overnight Trips by Foreign Visitors   January   \n",
       "3  Number of Overnight Trips by Foreign Visitors   January   \n",
       "4  Number of Overnight Trips by Foreign Visitors   January   \n",
       "5  Number of Overnight Trips by Foreign Visitors   January   \n",
       "6  Number of Overnight Trips by Foreign Visitors  February   \n",
       "7  Number of Overnight Trips by Foreign Visitors  February   \n",
       "8  Number of Overnight Trips by Foreign Visitors  February   \n",
       "9  Number of Overnight Trips by Foreign Visitors  February   \n",
       "\n",
       "                      Main Accommodation Type      UNIT  VALUE  Year  \n",
       "0                     Hotel/conference centre  Thousand  121.0  2023  \n",
       "1                 Guest house/bed & breakfast  Thousand    8.5  2023  \n",
       "2              Friends/relatives/own property  Thousand  243.4  2023  \n",
       "3                  Self catering/rented house  Thousand   13.8  2023  \n",
       "4  Other private tourism accommodation n.e.c.  Thousand   13.4  2023  \n",
       "5                  All types of accommodation  Thousand  400.0  2023  \n",
       "6                     Hotel/conference centre  Thousand  142.9  2023  \n",
       "7                 Guest house/bed & breakfast  Thousand    7.1  2023  \n",
       "8              Friends/relatives/own property  Thousand  156.3  2023  \n",
       "9                  Self catering/rented house  Thousand   14.4  2023  "
      ]
     },
     "execution_count": 5,
     "metadata": {},
     "output_type": "execute_result"
    }
   ],
   "source": [
    "df.head(10)"
   ]
  },
  {
   "cell_type": "code",
   "execution_count": 6,
   "id": "5dd2d366-671f-46f2-a1b9-9ff7d9595ca9",
   "metadata": {},
   "outputs": [
    {
     "data": {
      "text/plain": [
       "Statistic Label            0\n",
       "Month                      0\n",
       "Main Accommodation Type    0\n",
       "UNIT                       0\n",
       "VALUE                      0\n",
       "Year                       0\n",
       "dtype: int64"
      ]
     },
     "execution_count": 6,
     "metadata": {},
     "output_type": "execute_result"
    }
   ],
   "source": [
    "#To verify if there is any null variable\n",
    "df.isnull().sum()"
   ]
  },
  {
   "cell_type": "code",
   "execution_count": 7,
   "id": "e1e7d418-0e20-42a1-bff5-f19ec4b5ca8b",
   "metadata": {},
   "outputs": [
    {
     "name": "stdout",
     "output_type": "stream",
     "text": [
      "<class 'pandas.core.frame.DataFrame'>\n",
      "RangeIndex: 600 entries, 0 to 599\n",
      "Data columns (total 6 columns):\n",
      " #   Column                   Non-Null Count  Dtype  \n",
      "---  ------                   --------------  -----  \n",
      " 0   Statistic Label          600 non-null    object \n",
      " 1   Month                    600 non-null    object \n",
      " 2   Main Accommodation Type  600 non-null    object \n",
      " 3   UNIT                     600 non-null    object \n",
      " 4   VALUE                    600 non-null    float64\n",
      " 5   Year                     600 non-null    int32  \n",
      "dtypes: float64(1), int32(1), object(4)\n",
      "memory usage: 25.9+ KB\n"
     ]
    }
   ],
   "source": [
    "df.info()\n"
   ]
  },
  {
   "cell_type": "code",
   "execution_count": 16,
   "id": "766e9944-bec1-42f4-8f62-f3fde2808d80",
   "metadata": {},
   "outputs": [
    {
     "name": "stdout",
     "output_type": "stream",
     "text": [
      "Month\n",
      "February      6028.4\n",
      "November      7515.6\n",
      "March         7604.3\n",
      "January       8659.6\n",
      "April         8726.9\n",
      "October       9519.9\n",
      "December     10405.4\n",
      "May          10563.4\n",
      "June         10728.3\n",
      "September    10920.5\n",
      "July         13050.4\n",
      "August       16616.5\n",
      "Name: VALUE, dtype: float64\n"
     ]
    }
   ],
   "source": [
    "#To sum up the values for each month of 2023 and sorting those sums in ascending order \n",
    "df_2023=df[df['Year']==2023]\n",
    "sum_month2023= df_2023.groupby('Month')['VALUE'].sum()\n",
    "sum_month_sort1= sum_month2023.sort_values(ascending=True)\n",
    "print(sum_month_sort1)"
   ]
  },
  {
   "cell_type": "code",
   "execution_count": 15,
   "id": "8df2eb46-561d-40f5-b534-0cd7b8233921",
   "metadata": {},
   "outputs": [
    {
     "name": "stdout",
     "output_type": "stream",
     "text": [
      "Month\n",
      "February     6656.6\n",
      "March        7707.9\n",
      "April        8519.7\n",
      "January      8991.4\n",
      "May         10625.3\n",
      "June        11544.6\n",
      "July        12351.1\n",
      "August      15318.1\n",
      "Name: VALUE, dtype: float64\n"
     ]
    }
   ],
   "source": [
    "#To sum up the values for each month of 2024 and sorting those sums in ascending order \n",
    "df_2024=df[df['Year']==2024]\n",
    "sum_month2024= df_2024.groupby('Month')['VALUE'].sum()\n",
    "sum_month_sort2= sum_month2024.sort_values(ascending=True)\n",
    "print(sum_month_sort2)"
   ]
  },
  {
   "cell_type": "code",
   "execution_count": 17,
   "id": "721cfcc1-befc-47f3-9371-562171e38902",
   "metadata": {},
   "outputs": [
    {
     "data": {
      "text/html": [
       "<div>\n",
       "<style scoped>\n",
       "    .dataframe tbody tr th:only-of-type {\n",
       "        vertical-align: middle;\n",
       "    }\n",
       "\n",
       "    .dataframe tbody tr th {\n",
       "        vertical-align: top;\n",
       "    }\n",
       "\n",
       "    .dataframe thead th {\n",
       "        text-align: right;\n",
       "    }\n",
       "</style>\n",
       "<table border=\"1\" class=\"dataframe\">\n",
       "  <thead>\n",
       "    <tr style=\"text-align: right;\">\n",
       "      <th></th>\n",
       "      <th>VALUE</th>\n",
       "      <th>Year</th>\n",
       "    </tr>\n",
       "  </thead>\n",
       "  <tbody>\n",
       "    <tr>\n",
       "      <th>count</th>\n",
       "      <td>600.000000</td>\n",
       "      <td>600.000000</td>\n",
       "    </tr>\n",
       "    <tr>\n",
       "      <th>mean</th>\n",
       "      <td>336.756500</td>\n",
       "      <td>2023.400000</td>\n",
       "    </tr>\n",
       "    <tr>\n",
       "      <th>std</th>\n",
       "      <td>883.068043</td>\n",
       "      <td>0.490307</td>\n",
       "    </tr>\n",
       "    <tr>\n",
       "      <th>min</th>\n",
       "      <td>1.500000</td>\n",
       "      <td>2023.000000</td>\n",
       "    </tr>\n",
       "    <tr>\n",
       "      <th>25%</th>\n",
       "      <td>8.100000</td>\n",
       "      <td>2023.000000</td>\n",
       "    </tr>\n",
       "    <tr>\n",
       "      <th>50%</th>\n",
       "      <td>33.700000</td>\n",
       "      <td>2023.000000</td>\n",
       "    </tr>\n",
       "    <tr>\n",
       "      <th>75%</th>\n",
       "      <td>208.675000</td>\n",
       "      <td>2024.000000</td>\n",
       "    </tr>\n",
       "    <tr>\n",
       "      <th>max</th>\n",
       "      <td>7337.700000</td>\n",
       "      <td>2024.000000</td>\n",
       "    </tr>\n",
       "  </tbody>\n",
       "</table>\n",
       "</div>"
      ],
      "text/plain": [
       "             VALUE         Year\n",
       "count   600.000000   600.000000\n",
       "mean    336.756500  2023.400000\n",
       "std     883.068043     0.490307\n",
       "min       1.500000  2023.000000\n",
       "25%       8.100000  2023.000000\n",
       "50%      33.700000  2023.000000\n",
       "75%     208.675000  2024.000000\n",
       "max    7337.700000  2024.000000"
      ]
     },
     "execution_count": 17,
     "metadata": {},
     "output_type": "execute_result"
    }
   ],
   "source": [
    "df.describe()"
   ]
  },
  {
   "cell_type": "code",
   "execution_count": 21,
   "id": "e6643f1e-12db-4f91-83ce-5f50a52e433c",
   "metadata": {},
   "outputs": [
    {
     "name": "stdout",
     "output_type": "stream",
     "text": [
      "                                        Statistic Label    Month  \\\n",
      "Year                                                               \n",
      "2023 0    Number of Overnight Trips by Foreign Visitors  January   \n",
      "     1    Number of Overnight Trips by Foreign Visitors  January   \n",
      "     2    Number of Overnight Trips by Foreign Visitors  January   \n",
      "     3    Number of Overnight Trips by Foreign Visitors  January   \n",
      "     4    Number of Overnight Trips by Foreign Visitors  January   \n",
      "...                                                 ...      ...   \n",
      "2024 595     Average Length of Stay of Foreign Visitors   August   \n",
      "     596     Average Length of Stay of Foreign Visitors   August   \n",
      "     597     Average Length of Stay of Foreign Visitors   August   \n",
      "     598     Average Length of Stay of Foreign Visitors   August   \n",
      "     599     Average Length of Stay of Foreign Visitors   August   \n",
      "\n",
      "                             Main Accommodation Type             UNIT  VALUE  \n",
      "Year                                                                          \n",
      "2023 0                       Hotel/conference centre         Thousand  121.0  \n",
      "     1                   Guest house/bed & breakfast         Thousand    8.5  \n",
      "     2                Friends/relatives/own property         Thousand  243.4  \n",
      "     3                    Self catering/rented house         Thousand   13.8  \n",
      "     4    Other private tourism accommodation n.e.c.         Thousand   13.4  \n",
      "...                                              ...              ...    ...  \n",
      "2024 595                 Guest house/bed & breakfast  Nights per trip    8.9  \n",
      "     596              Friends/relatives/own property  Nights per trip   10.2  \n",
      "     597                  Self catering/rented house  Nights per trip   11.2  \n",
      "     598  Other private tourism accommodation n.e.c.  Nights per trip   13.5  \n",
      "     599                  All types of accommodation  Nights per trip    8.7  \n",
      "\n",
      "[519 rows x 5 columns]\n"
     ]
    }
   ],
   "source": [
    "#To split the dataset into groups by year\n",
    "by_year = df.groupby('Year')\n",
    "\n",
    "#To manage the outliers using the quartiles method\n",
    "def yearly_group(group):\n",
    "    Q1= group['VALUE'].quantile(0.25)\n",
    "    Q3= group['VALUE'].quantile(0.75)\n",
    "    IQR= Q3 - Q1\n",
    "    lower= Q1 - 1.5 * IQR\n",
    "    upper= Q3 + 1.5 * IQR\n",
    "    return group[(group['VALUE'] >= lower) & (group['VALUE'] <= upper)]\n",
    "\n",
    "#To apply the quartiles method to each group\n",
    "processed_groups= by_year.apply(yearly_group, include_groups=False)\n",
    "\n",
    "print(processed_groups)\n"
   ]
  },
  {
   "cell_type": "code",
   "execution_count": 28,
   "id": "d19c87a3-b8e3-4557-845f-810e15906236",
   "metadata": {
    "scrolled": true
   },
   "outputs": [
    {
     "name": "stdout",
     "output_type": "stream",
     "text": [
      "\n",
      " Year description 2023\n",
      "             VALUE    Year\n",
      "count   360.000000   360.0\n",
      "mean    334.275556  2023.0\n",
      "std     883.836853     0.0\n",
      "min       1.500000  2023.0\n",
      "25%       8.100000  2023.0\n",
      "50%      32.850000  2023.0\n",
      "75%     201.025000  2023.0\n",
      "max    7337.700000  2023.0 \n",
      "\n",
      "\n",
      " Year description 2024\n",
      "             VALUE    Year\n",
      "count   240.000000   240.0\n",
      "mean    340.477917  2024.0\n",
      "std     883.746755     0.0\n",
      "min       1.600000  2024.0\n",
      "25%       8.175000  2024.0\n",
      "50%      35.600000  2024.0\n",
      "75%     218.400000  2024.0\n",
      "max    6666.200000  2024.0 \n",
      "\n"
     ]
    }
   ],
   "source": [
    "#Loop to get the description per year group\n",
    "for year, group in by_year:\n",
    "    print('\\n', f\"Year description {year}\")\n",
    "    print(group.describe(), '\\n')\n",
    "    "
   ]
  },
  {
   "cell_type": "code",
   "execution_count": 30,
   "id": "597999dc-c39d-4dad-8c12-47681342f7c2",
   "metadata": {},
   "outputs": [
    {
     "name": "stdout",
     "output_type": "stream",
     "text": [
      "Original std: 883.0680428133187\n",
      "No outliers std: 112.44104048929218\n"
     ]
    }
   ],
   "source": [
    "#To compare the std original and after the quartiles method\n",
    "orig_std = df['VALUE'].std()\n",
    "processed_std = processed_groups['VALUE'].std()\n",
    "\n",
    "print(f\"Original std: {orig_std}\")\n",
    "print(f\"No outliers std: {processed_std}\")\n"
   ]
  },
  {
   "cell_type": "code",
   "execution_count": 38,
   "id": "5086c208-a482-4947-8331-cc744d9c85d1",
   "metadata": {},
   "outputs": [
    {
     "data": {
      "image/png": "[encoded data removed]",
      "text/plain": [
       "<Figure size 1000x600 with 1 Axes>"
      ]
     },
     "metadata": {},
     "output_type": "display_data"
    }
   ],
   "source": [
    "#Creates a boxplot for each group\n",
    "plt.figure(figsize=(10, 6))\n",
    "sns.boxplot(x='Year', y='VALUE', data=processed_groups)\n",
    "plt.title('Number of Overnight Trips by Foreign Visitors')\n",
    "plt.xlabel('Year')\n",
    "plt.ylabel('Value')\n",
    "plt.show()"
   ]
  },
  {
   "cell_type": "code",
   "execution_count": null,
   "id": "bbf0959a-2e75-47c2-a553-556cd859b237",
   "metadata": {},
   "outputs": [],
   "source": []
  },
  {
   "cell_type": "code",
   "execution_count": null,
   "id": "8232751c-af8a-4148-b690-0f78100153ef",
   "metadata": {},
   "outputs": [],
   "source": []
  },
  {
   "cell_type": "code",
   "execution_count": null,
   "id": "db6b24fa-7eb9-4ae0-87ec-d202320e01f5",
   "metadata": {},
   "outputs": [],
   "source": []
  },
  {
   "cell_type": "code",
   "execution_count": null,
   "id": "aae6d7cc-e1c9-4d1b-a627-13b441b22b5f",
   "metadata": {},
   "outputs": [],
   "source": []
  },
  {
   "cell_type": "code",
   "execution_count": null,
   "id": "521aa2f7-b302-448b-88f4-bd7e2528ac29",
   "metadata": {},
   "outputs": [],
   "source": []
  },
  {
   "cell_type": "code",
   "execution_count": null,
   "id": "94af1b8b-ed0e-4aa4-a12b-94862f45e686",
   "metadata": {},
   "outputs": [],
   "source": []
  },
  {
   "cell_type": "code",
   "execution_count": null,
   "id": "6bda686c-2eea-489b-9bf5-9218f60a54b3",
   "metadata": {},
   "outputs": [],
   "source": []
  },
  {
   "cell_type": "code",
   "execution_count": null,
   "id": "47132ee2-98e9-478a-b314-bcd895d3c675",
   "metadata": {},
   "outputs": [],
   "source": []
  },
  {
   "cell_type": "code",
   "execution_count": null,
   "id": "b3271c44-77c2-4c02-a6e6-9b17c659b581",
   "metadata": {},
   "outputs": [],
   "source": []
  },
  {
   "cell_type": "code",
   "execution_count": null,
   "id": "7cd570e8-cd6c-4ca7-98f5-038c9f5d8de3",
   "metadata": {},
   "outputs": [],
   "source": []
  },
  {
   "cell_type": "code",
   "execution_count": null,
   "id": "5f376578-6ef0-42e8-b6df-7bed1b22e74a",
   "metadata": {},
   "outputs": [],
   "source": []
  }
 ],
 "metadata": {
  "kernelspec": {
   "display_name": "Python 3 (ipykernel)",
   "language": "python",
   "name": "python3"
  },
  "language_info": {
   "codemirror_mode": {
    "name": "ipython",
    "version": 3
   },
   "file_extension": ".py",
   "mimetype": "text/x-python",
   "name": "python",
   "nbconvert_exporter": "python",
   "pygments_lexer": "ipython3",
   "version": "3.12.5"
  }
 },
 "nbformat": 4,
 "nbformat_minor": 5
}
