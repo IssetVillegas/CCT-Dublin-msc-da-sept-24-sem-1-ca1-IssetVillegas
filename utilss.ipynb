{
 "cells": [
  {
   "cell_type": "code",
   "execution_count": 4,
   "id": "bce96657-372e-4140-8ca4-ee868ed96522",
   "metadata": {},
   "outputs": [],
   "source": [
    "#importing libraries\n",
    "import pandas as pd\n",
    "\n",
    "#Function to load and filter the dataset\n",
    "def load_filter_data(file_path, exclude_type):\n",
    "    \"\"\"\n",
    "    Loads data from a CSV file and filters the accommodation types.\n",
    "\n",
    "    Parameters:\n",
    "    file_path (str): CSV file path.\n",
    "\n",
    "    Returns:\n",
    "    DataFrame: Filtered DataFrame.\n",
    "    \"\"\"\n",
    "    \n",
    "    #Reading dataset with index set to false\n",
    "    df = pd.read_csv(file_path, index_col=False)\n",
    "\n",
    "    #To filter the dataset excluding the observation specified\n",
    "    df_filtered= df[df['Main Accommodation Type'] != exclude_type].copy()\n",
    "\n",
    "    #To reindex the dataFrame\n",
    "    df_filtered.reset_index(drop=True, inplace=True)\n",
    "    \n",
    "    #To filter the dataset ecluding the observation specified\n",
    "    return df_filtered"
   ]
  },
  {
   "cell_type": "code",
   "execution_count": 2,
   "id": "5e9e28d7-f3bc-4537-aa6b-6204655633df",
   "metadata": {},
   "outputs": [],
   "source": [
    "#function to calculate the interquartile range and identify outliers\n",
    "def calculate_iqr(df_filtered, feature):\n",
    "    \"\"\"\n",
    "    Calculates interquartiles, IQR, and outliers.\n",
    "    \n",
    "    PArameters:\n",
    "    df_filtered - pandas DataFrame.\n",
    "    feature - feature where the IQR and outliers are going to be calculated.\n",
    "    \n",
    "    Returns:\n",
    "    outliers - DataFrame showing outliers.\n",
    "    \"\"\"\n",
    "\n",
    "    constant = 1.5\n",
    "    #To calculate the 25th percentile (first quartile)\n",
    "    Q1 = df_filtered[feature].quantile(0.25)\n",
    "    #To calculate the 75th percentile (third quartile)\n",
    "    Q3 = df_filtered[feature].quantile(0.75)\n",
    "    IQR = Q3 - Q1\n",
    "\n",
    "    #To identify outliers\n",
    "    \n",
    "    #Calculates the lower bound\n",
    "    lower = Q1 - constant * IQR\n",
    "    #Calculates the upper bound\n",
    "    upper = Q3 + constant * IQR\n",
    "    \n",
    "    outliers = df_filtered[(df_filtered[feature] < lower) | (df_filtered[feature] > upper)]\n",
    "    \n",
    "    # Returns features specified only\n",
    "    return outliers[['Average Length of Stay of Foreign Visitors (Nights per trip)']]\n"
   ]
  },
  {
   "cell_type": "markdown",
   "id": "687c6266-6eca-47a1-b8f1-4866c504a957",
   "metadata": {},
   "source": [
    "## Graphics"
   ]
  },
  {
   "cell_type": "code",
   "execution_count": 6,
   "id": "6e37ca56-6219-49e8-8281-82699a23bed2",
   "metadata": {},
   "outputs": [],
   "source": [
    "#Function to plot a heatmap\n",
    "def plot_correlation_heatmap(dataframe, variables, title='Correlation Matrix Heatmap'):\n",
    "    \"\"\"\n",
    "    Plots a heatmap of the correlation matrix for the specified variables in the given DataFrame.\n",
    "\n",
    "    Parameters:\n",
    "    - dataframe: pd.DataFrame - The DataFrame containing the data.\n",
    "    - variables: list - A list of column names to include in the correlation matrix.\n",
    "    - title: str - The title for the heatmap.\n",
    "    \"\"\"\n",
    "    correlation_matrix = dataframe[variables].corr()\n",
    "\n",
    "    plt.figure(figsize=(10, 6))\n",
    "    sns.heatmap(correlation_matrix, annot=True, fmt='.2f', cmap='coolwarm', square=True)\n",
    "    plt.title(title)\n",
    "    plt.show()"
   ]
  },
  {
   "cell_type": "code",
   "execution_count": null,
   "id": "2c22ac1c-9f75-44b2-88e3-5c01b6e0f9d5",
   "metadata": {},
   "outputs": [],
   "source": []
  },
  {
   "cell_type": "code",
   "execution_count": null,
   "id": "a0f72809-2b96-4d2e-abc3-1cd8b5a0a7ee",
   "metadata": {},
   "outputs": [],
   "source": []
  }
 ],
 "metadata": {
  "kernelspec": {
   "display_name": "Python 3 (ipykernel)",
   "language": "python",
   "name": "python3"
  },
  "language_info": {
   "codemirror_mode": {
    "name": "ipython",
    "version": 3
   },
   "file_extension": ".py",
   "mimetype": "text/x-python",
   "name": "python",
   "nbconvert_exporter": "python",
   "pygments_lexer": "ipython3",
   "version": "3.12.5"
  }
 },
 "nbformat": 4,
 "nbformat_minor": 5
}
