{
 "cells": [
  {
   "cell_type": "code",
   "execution_count": 50,
   "id": "b154087b-a85a-4e69-8da8-319e741c5874",
   "metadata": {},
   "outputs": [],
   "source": [
    "#importing libraries\n",
    "import pandas as pd \n",
    "import numpy as np \n",
    "from sklearn.model_selection import train_test_split \n",
    "from sklearn.preprocessing import StandardScaler, OneHotEncoder \n",
    "from sklearn.compose import ColumnTransformer\n",
    "from sklearn.linear_model import Ridge, Lasso \n",
    "from sklearn.model_selection import GridSearchCV \n",
    "from sklearn.metrics import mean_squared_error, r2_score \n",
    "from scipy import stats \n",
    "#To access functions stored in utilss\n",
    "%run utilss.ipynb"
   ]
  },
  {
   "cell_type": "markdown",
   "id": "e40f9f46-eb4e-4099-81b9-33f3e14d578b",
   "metadata": {},
   "source": [
    "## Ridge and Lasso regression"
   ]
  },
  {
   "cell_type": "code",
   "execution_count": 85,
   "id": "eac07a8d-8d86-4666-a458-dbb28a39a161",
   "metadata": {},
   "outputs": [],
   "source": [
    "#calling the function to filter the data by excluding the specified observation\n",
    "df_filtered = load_filter_data('new_cso_data.csv', 'All types of accommodation')"
   ]
  },
  {
   "cell_type": "code",
   "execution_count": 86,
   "id": "4eec4374-aa30-4f05-a738-6d7721b067c7",
   "metadata": {},
   "outputs": [],
   "source": [
    "#Identifying outliers\n",
    "outliers = calculate_iqr(df_filtered, 'Average Length of Stay of Foreign Visitors (Nights per trip)')"
   ]
  },
  {
   "cell_type": "code",
   "execution_count": 87,
   "id": "423ea32d-dff6-4240-853f-ca65adfb0539",
   "metadata": {},
   "outputs": [],
   "source": [
    "#Processes data to remove outliers \n",
    "df_ml = load_and_process_data(df_filtered, outliers)\n"
   ]
  },
  {
   "cell_type": "code",
   "execution_count": 88,
   "id": "31862090-339b-4b6d-958a-c8951ac2a29f",
   "metadata": {},
   "outputs": [],
   "source": [
    "#To split features and target attribute\n",
    "X, y = split_features_target(df_ml, 'Average Length of Stay of Foreign Visitors (Nights per trip)')"
   ]
  },
  {
   "cell_type": "code",
   "execution_count": 90,
   "id": "4593b451-123b-477c-8ca7-53db24caddd7",
   "metadata": {},
   "outputs": [],
   "source": [
    "#Encoding to categorical variables\n",
    "categorical_feat= ['Main Accommodation Type']\n",
    "numerical_feat= X.select_dtypes(include=[np.number]).columns"
   ]
  },
  {
   "cell_type": "code",
   "execution_count": 91,
   "id": "789351b6-434b-4ea7-be89-56f0a5a265ac",
   "metadata": {},
   "outputs": [],
   "source": [
    "#To transform the diffrent attributes\n",
    "preprocessor = ColumnTransformer( transformers=[ \n",
    "    ('num', StandardScaler(), numerical_feat), \n",
    "    ('cat', OneHotEncoder(), categorical_feat)]) \n"
   ]
  },
  {
   "cell_type": "code",
   "execution_count": 92,
   "id": "a7060598-1a9b-4336-bf44-eef7dbcabff4",
   "metadata": {},
   "outputs": [],
   "source": [
    "#Applies the transformations\n",
    "X_processed = preprocessor.fit_transform(X)"
   ]
  },
  {
   "cell_type": "code",
   "execution_count": 93,
   "id": "308c3d02-b2ca-4e02-b621-396e18df5e0b",
   "metadata": {},
   "outputs": [],
   "source": [
    "#splits data into training and testing sets\n",
    "X_train, X_test, y_train, y_test = split_data(X, y, test_size=0.2, random_state=42) #20% data for testing, 80% for training "
   ]
  },
  {
   "cell_type": "code",
   "execution_count": 96,
   "id": "583a9b3f-fbe1-450d-9c95-b1d465b691f7",
   "metadata": {},
   "outputs": [
    {
     "name": "stdout",
     "output_type": "stream",
     "text": [
      "Ridge Model - MSE: 1.7117140720389596, R2: 0.897587768116282\n"
     ]
    }
   ],
   "source": [
    "#To train and evaluate Ridge model\n",
    "best_ridge = train_ridge_model(X_train, y_train)\n",
    "ridge_mse, ridge_r2 = evaluate_model(best_ridge, X_test, y_test)\n",
    "print(f\"Ridge Model - MSE: {ridge_mse}, R2: {ridge_r2}\")"
   ]
  },
  {
   "cell_type": "code",
   "execution_count": 97,
   "id": "eaeb19f9-a51f-44bc-b507-f0f1c3161950",
   "metadata": {},
   "outputs": [
    {
     "name": "stdout",
     "output_type": "stream",
     "text": [
      "Lasso Model - MSE: 1.6837773667498281, R2: 0.8992592273785931\n"
     ]
    }
   ],
   "source": [
    "#To train and evaluate Lasso model\n",
    "best_lasso = train_lasso_model(X_train, y_train)\n",
    "lasso_mse, lasso_r2 = evaluate_model(best_lasso, X_test, y_test)\n",
    "print(f\"Lasso Model - MSE: {lasso_mse}, R2: {lasso_r2}\")"
   ]
  },
  {
   "cell_type": "code",
   "execution_count": 98,
   "id": "e0bb3d62-d7ee-4050-beff-f437a3a427c7",
   "metadata": {},
   "outputs": [
    {
     "name": "stdout",
     "output_type": "stream",
     "text": [
      "Ridge Coefficients: [-0.04074648 -2.0206086  -2.3025272   2.24934288  1.50632319 -0.19573366\n",
      " -1.5315263  -2.69724308 -0.70598195  3.53689737  1.39785395]\n",
      "Ridge Intercept: 9.281732624003398\n",
      "Lasso Coefficients: [-0.01461139 -2.14193838 -2.28196511  2.35111239  1.79037654 -0.17896436\n",
      " -1.29983771 -1.75338961 -0.          4.69174639  2.41756169]\n",
      "Lasso Intercept: 8.502071316289245\n"
     ]
    }
   ],
   "source": [
    "#Analyzes coefficients\n",
    "analyze_coefficients(best_ridge, \"Ridge\")\n",
    "analyze_coefficients(best_lasso, \"Lasso\")"
   ]
  },
  {
   "cell_type": "code",
   "execution_count": null,
   "id": "d640a09e-074a-41c2-af60-30f03afde17e",
   "metadata": {},
   "outputs": [],
   "source": []
  },
  {
   "cell_type": "code",
   "execution_count": null,
   "id": "159a1a9b-ec73-4c91-a0de-b45532f68901",
   "metadata": {},
   "outputs": [],
   "source": []
  },
  {
   "cell_type": "code",
   "execution_count": null,
   "id": "b0efacad-d471-4a84-80cf-e5445167055a",
   "metadata": {},
   "outputs": [],
   "source": []
  },
  {
   "cell_type": "code",
   "execution_count": null,
   "id": "def4cdc6-20e2-4f8d-ac02-efdf8011c14d",
   "metadata": {},
   "outputs": [],
   "source": []
  },
  {
   "cell_type": "code",
   "execution_count": null,
   "id": "3f032dd5-96e4-4127-8b19-3241428dde6c",
   "metadata": {},
   "outputs": [],
   "source": []
  },
  {
   "cell_type": "code",
   "execution_count": null,
   "id": "66f359ba-4746-45a6-b28c-81daa875e4ae",
   "metadata": {},
   "outputs": [],
   "source": []
  }
 ],
 "metadata": {
  "kernelspec": {
   "display_name": "Python 3 (ipykernel)",
   "language": "python",
   "name": "python3"
  },
  "language_info": {
   "codemirror_mode": {
    "name": "ipython",
    "version": 3
   },
   "file_extension": ".py",
   "mimetype": "text/x-python",
   "name": "python",
   "nbconvert_exporter": "python",
   "pygments_lexer": "ipython3",
   "version": "3.12.5"
  }
 },
 "nbformat": 4,
 "nbformat_minor": 5
}
